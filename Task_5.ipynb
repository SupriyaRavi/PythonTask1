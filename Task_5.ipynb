{
 "cells": [
  {
   "cell_type": "code",
   "execution_count": 9,
   "metadata": {},
   "outputs": [
    {
     "name": "stdout",
     "output_type": "stream",
     "text": [
      "a count: 1\n",
      "e count: 5\n",
      "i count: 4\n",
      "o count: 1\n",
      "u count: 1\n",
      "Total number of vowels: 12\n"
     ]
    }
   ],
   "source": [
    "# 1. \n",
    "given_string = \"Guvi Geeks network private limited\"\n",
    "\n",
    "count_a = 0\n",
    "count_e = 0\n",
    "count_i = 0\n",
    "count_o = 0\n",
    "count_u = 0\n",
    "total_count = 0\n",
    "\n",
    "for i in given_string:  \n",
    "    if i == \"a\":\n",
    "        count_a += 1\n",
    "    elif i== \"e\":  \n",
    "        count_e += 1\n",
    "    elif i == \"i\":\n",
    "        count_i += 1\n",
    "    elif i == \"o\":\n",
    "        count_o += 1\n",
    "    elif i == \"u\":\n",
    "        count_u += 1\n",
    "\n",
    "total_count = count_a + count_e + count_i + count_o + count_u\n",
    "\n",
    "print(\"a count:\", count_a)\n",
    "print(\"e count:\", count_e)\n",
    "print(\"i count:\", count_i)\n",
    "print(\"o count:\", count_o)\n",
    "print(\"u count:\", count_u)\n",
    "print(\"Total number of vowels:\", total_count)\n"
   ]
  },
  {
   "cell_type": "code",
   "execution_count": 2,
   "metadata": {},
   "outputs": [
    {
     "name": "stdout",
     "output_type": "stream",
     "text": [
      "                   1 \n",
      "                  1 2 \n",
      "                 1 2 3 \n",
      "                1 2 3 4 \n",
      "               1 2 3 4 5 \n",
      "              1 2 3 4 5 6 \n",
      "             1 2 3 4 5 6 7 \n",
      "            1 2 3 4 5 6 7 8 \n",
      "           1 2 3 4 5 6 7 8 9 \n",
      "          1 2 3 4 5 6 7 8 9 10 \n",
      "         1 2 3 4 5 6 7 8 9 10 11 \n",
      "        1 2 3 4 5 6 7 8 9 10 11 12 \n",
      "       1 2 3 4 5 6 7 8 9 10 11 12 13 \n",
      "      1 2 3 4 5 6 7 8 9 10 11 12 13 14 \n",
      "     1 2 3 4 5 6 7 8 9 10 11 12 13 14 15 \n",
      "    1 2 3 4 5 6 7 8 9 10 11 12 13 14 15 16 \n",
      "   1 2 3 4 5 6 7 8 9 10 11 12 13 14 15 16 17 \n",
      "  1 2 3 4 5 6 7 8 9 10 11 12 13 14 15 16 17 18 \n",
      " 1 2 3 4 5 6 7 8 9 10 11 12 13 14 15 16 17 18 19 \n",
      "1 2 3 4 5 6 7 8 9 10 11 12 13 14 15 16 17 18 19 20 \n"
     ]
    }
   ],
   "source": [
    "\n",
    "# 2. \n",
    "max_num = 20  #Providing the numbers to be in the pyramid \n",
    "# first loop is to print the indentation \n",
    "for i in range(1, max_num+1):\n",
    "        print(\" \" * (max_num - i),end=\"\") # to maintain the indentation till the last line we have added end argument and avoid print() to add a new line\n",
    "        for j in range(1, i + 1):\n",
    "            print(j, end=\" \")\n",
    "        print() # Move to the next line after printing each row\n",
    "\n"
   ]
  },
  {
   "cell_type": "code",
   "execution_count": 6,
   "metadata": {},
   "outputs": [
    {
     "name": "stdout",
     "output_type": "stream",
     "text": [
      "The sub string with vowels removed is: Pythn prgrm\n"
     ]
    }
   ],
   "source": [
    "# 3. \n",
    "input_string=input(\"Enter the string:\")\n",
    "vowels=\"aeiouAEIOU\"\n",
    "sub_string=''\n",
    "for i in input_string:\n",
    "    if i not in vowels:\n",
    "        sub_string=sub_string+i\n",
    "print(\"The sub string with vowels removed is:\",sub_string)"
   ]
  },
  {
   "cell_type": "code",
   "execution_count": 8,
   "metadata": {},
   "outputs": [
    {
     "name": "stdout",
     "output_type": "stream",
     "text": [
      "Number of unique characters: 13\n"
     ]
    }
   ],
   "source": [
    "#4. \n",
    "input_string = input(\"Enter a string: \")\n",
    "\n",
    "unique_chars = set(input_string) # Using a set to store unique characters\n",
    "\n",
    "count = len(unique_chars) # Getting the count of unique characters\n",
    "\n",
    "print(\"Number of unique characters:\", count)\n"
   ]
  },
  {
   "cell_type": "code",
   "execution_count": 13,
   "metadata": {},
   "outputs": [
    {
     "name": "stdout",
     "output_type": "stream",
     "text": [
      "False - The given input is not a palindrome\n"
     ]
    }
   ],
   "source": [
    "#5. \n",
    "input_string = input(\"Enter a string: \")\n",
    "\n",
    "input_string = input_string.replace(\" \", \"\").lower() # Remove method is used to remove spaces between words, the first argument specifies what to remove and the second argument specifies with what \n",
    "#lower method convert to lowercase for case-insensitive comparison\n",
    "\n",
    "palindrome = input_string == input_string[::-1] # checking if the input string is equal to the reverse input string using slicing method\n",
    "\n",
    "if palindrome:\n",
    "    print(\"True - The given input is a palindrome\")\n",
    "else:\n",
    "    print(\"False - The given input is not a palindrome\")\n"
   ]
  },
  {
   "cell_type": "code",
   "execution_count": 1,
   "metadata": {},
   "outputs": [],
   "source": [
    "#6. \n",
    "string1 = \"Python Automation\"\n",
    "string2 = \"Python\"\n",
    "common_substrings = [] # empty list to store all the common substrings\n",
    "\n",
    "for i in range(len(string1)):\n",
    "    for j in range(len(string2)):\n",
    "        k = 0 \n",
    "\n"
   ]
  },
  {
   "cell_type": "code",
   "execution_count": 13,
   "metadata": {},
   "outputs": [
    {
     "name": "stdout",
     "output_type": "stream",
     "text": [
      "Most frequent character: P\n"
     ]
    }
   ],
   "source": [
    "#7. \n",
    "input_string = \"Python Program\"\n",
    "\n",
    "char = {} # Dictionary to store input characters as key and their occurances as values \n",
    "\n",
    "# Count frequencies of characters in the input string \n",
    "for i in input_string: #Python program \n",
    "    if i in char:\n",
    "        char[i] += 1 #This is how we access a value associated with a key in a dictionary \n",
    "    else:\n",
    "        char[i] = 1 \n",
    "\n",
    "\n",
    "most_freq_char = max(char, key=char.get) # using max function we can call the maximum item in the dictionary , the key parameter is used to get key as the outpu \n",
    "\n",
    "print(\"Most frequent character:\", most_freq_char)\n"
   ]
  },
  {
   "cell_type": "code",
   "execution_count": 11,
   "metadata": {},
   "outputs": [
    {
     "name": "stdout",
     "output_type": "stream",
     "text": [
      "Its an anagram\n"
     ]
    }
   ],
   "source": [
    "#8.\n",
    "str1 = \"free\"\n",
    "str2=\"reef\"\n",
    "    \n",
    "str1 = str1.replace(\" \", \"\").lower() # Removing the spaces and convert to lowercase\n",
    "str2 = str2.replace(\" \", \"\").lower()\n",
    "    \n",
    "    \n",
    "if len(str1) != len(str2): # Checking if the lengths of the strings are different\n",
    "    print(\"not an anagram\")\n",
    "    \n",
    "else:   # Sort the characters in both strings and compare\n",
    "    if sorted(str1) == sorted(str2):\n",
    "        print(\"Its an anagram\")\n",
    "    else:\n",
    "        print(\"Its not an anagram\")\n",
    "    "
   ]
  },
  {
   "cell_type": "code",
   "execution_count": 16,
   "metadata": {},
   "outputs": [
    {
     "name": "stdout",
     "output_type": "stream",
     "text": [
      "6\n"
     ]
    }
   ],
   "source": [
    "#9.\n",
    "str1=input(\"Enter the string:\")\n",
    "print(len(str1))"
   ]
  }
 ],
 "metadata": {
  "kernelspec": {
   "display_name": "Python 3",
   "language": "python",
   "name": "python3"
  },
  "language_info": {
   "codemirror_mode": {
    "name": "ipython",
    "version": 3
   },
   "file_extension": ".py",
   "mimetype": "text/x-python",
   "name": "python",
   "nbconvert_exporter": "python",
   "pygments_lexer": "ipython3",
   "version": "3.12.2"
  }
 },
 "nbformat": 4,
 "nbformat_minor": 2
}
